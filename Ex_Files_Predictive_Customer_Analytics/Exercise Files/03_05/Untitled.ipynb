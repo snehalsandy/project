{
 "cells": [
  {
   "cell_type": "code",
   "execution_count": 3,
   "metadata": {},
   "outputs": [
    {
     "data": {
      "text/html": [
       "<div>\n",
       "<style scoped>\n",
       "    .dataframe tbody tr th:only-of-type {\n",
       "        vertical-align: middle;\n",
       "    }\n",
       "\n",
       "    .dataframe tbody tr th {\n",
       "        vertical-align: top;\n",
       "    }\n",
       "\n",
       "    .dataframe thead th {\n",
       "        text-align: right;\n",
       "    }\n",
       "</style>\n",
       "<table border=\"1\" class=\"dataframe\">\n",
       "  <thead>\n",
       "    <tr style=\"text-align: right;\">\n",
       "      <th></th>\n",
       "      <th>userId</th>\n",
       "      <th>ItemId</th>\n",
       "    </tr>\n",
       "  </thead>\n",
       "  <tbody>\n",
       "    <tr>\n",
       "      <th>0</th>\n",
       "      <td>1001</td>\n",
       "      <td>5001</td>\n",
       "    </tr>\n",
       "    <tr>\n",
       "      <th>1</th>\n",
       "      <td>1001</td>\n",
       "      <td>5002</td>\n",
       "    </tr>\n",
       "    <tr>\n",
       "      <th>2</th>\n",
       "      <td>1001</td>\n",
       "      <td>5005</td>\n",
       "    </tr>\n",
       "    <tr>\n",
       "      <th>3</th>\n",
       "      <td>1002</td>\n",
       "      <td>5003</td>\n",
       "    </tr>\n",
       "    <tr>\n",
       "      <th>4</th>\n",
       "      <td>1002</td>\n",
       "      <td>5004</td>\n",
       "    </tr>\n",
       "  </tbody>\n",
       "</table>\n",
       "</div>"
      ],
      "text/plain": [
       "   userId  ItemId\n",
       "0    1001    5001\n",
       "1    1001    5002\n",
       "2    1001    5005\n",
       "3    1002    5003\n",
       "4    1002    5004"
      ]
     },
     "execution_count": 3,
     "metadata": {},
     "output_type": "execute_result"
    }
   ],
   "source": [
    "import pandas as pd\n",
    "df=pd.read_csv('ratings.csv')\n",
    "df.head()"
   ]
  },
  {
   "cell_type": "code",
   "execution_count": null,
   "metadata": {},
   "outputs": [],
   "source": [
    "itemList=list(set(userItemData[\"ItemId\"].tolist()))\n",
    "\n",
    "userCount=len(set(userItemData[\"ItemId\"].tolist()))\n",
    "\n",
    "itemAffinity= pd.DataFrame(columns=('item1', 'item2', 'score'))\n",
    "rowCount=0\n",
    "\n",
    "for ind1 in range(len(itemList)):\n",
    "    \n",
    "    item1Users = userItemData[userItemData.ItemId==itemList[ind1]][\"userId\"].tolist()\n",
    "    \n",
    "    \n",
    "    for ind2 in range(ind1, len(itemList)):\n",
    "        \n",
    "        if ( ind1 == ind2):\n",
    "            continue\n",
    "       \n",
    "        \n",
    "        item2Users=userItemData[userItemData.ItemId==itemList[ind2]][\"userId\"].tolist()\n",
    "        #print(\"Item 2\",item2Users)\n",
    "        \n",
    "        #Find score. Find the common list of users and divide it by the total users.\n",
    "        commonUsers= len(set(item1Users).intersection(set(item2Users)))\n",
    "        score=commonUsers / userCount\n",
    "\n",
    "        #Add a score for item 1, item 2\n",
    "        itemAffinity.loc[rowCount] = [itemList[ind1],itemList[ind2],score]\n",
    "        rowCount +=1\n",
    "        #Add a score for item2, item 1. The same score would apply irrespective of the sequence.\n",
    "        itemAffinity.loc[rowCount] = [itemList[ind2],itemList[ind1],score]\n",
    "        rowCount +=1\n",
    "        \n",
    "#Check final result\n",
    "itemAffinity.head()\n"
   ]
  }
 ],
 "metadata": {
  "kernelspec": {
   "display_name": "Python 3",
   "language": "python",
   "name": "python3"
  },
  "language_info": {
   "codemirror_mode": {
    "name": "ipython",
    "version": 3
   },
   "file_extension": ".py",
   "mimetype": "text/x-python",
   "name": "python",
   "nbconvert_exporter": "python",
   "pygments_lexer": "ipython3",
   "version": "3.6.8"
  }
 },
 "nbformat": 4,
 "nbformat_minor": 2
}
